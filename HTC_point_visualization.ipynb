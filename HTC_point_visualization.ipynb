{
 "cells": [
  {
   "cell_type": "code",
   "execution_count": 1,
   "metadata": {},
   "outputs": [
    {
     "ename": "ImportError",
     "evalue": "attempted relative import with no known parent package",
     "output_type": "error",
     "traceback": [
      "\u001b[1;31m---------------------------------------------------------------------------\u001b[0m",
      "\u001b[1;31mImportError\u001b[0m                               Traceback (most recent call last)",
      "\u001b[1;32m<ipython-input-1-c64b5c7ebfef>\u001b[0m in \u001b[0;36m<module>\u001b[1;34m\u001b[0m\n\u001b[0;32m      4\u001b[0m \u001b[1;32mimport\u001b[0m \u001b[0mpandas\u001b[0m \u001b[1;32mas\u001b[0m \u001b[0mpd\u001b[0m\u001b[1;33m\u001b[0m\u001b[1;33m\u001b[0m\u001b[0m\n\u001b[0;32m      5\u001b[0m \u001b[1;33m\u001b[0m\u001b[0m\n\u001b[1;32m----> 6\u001b[1;33m \u001b[1;32mfrom\u001b[0m \u001b[1;33m.\u001b[0m\u001b[0mpanpy\u001b[0m\u001b[1;33m.\u001b[0m\u001b[0mpan_sdk\u001b[0m\u001b[1;33m.\u001b[0m\u001b[0mstat\u001b[0m\u001b[1;33m.\u001b[0m\u001b[0mclean_merged_csv_form_htc_point\u001b[0m \u001b[1;32mimport\u001b[0m \u001b[0mHtcPointInterpreter\u001b[0m\u001b[1;33m\u001b[0m\u001b[1;33m\u001b[0m\u001b[0m\n\u001b[0m\u001b[0;32m      7\u001b[0m \u001b[1;32mfrom\u001b[0m \u001b[1;33m.\u001b[0m\u001b[0mpanpy\u001b[0m\u001b[1;33m.\u001b[0m\u001b[0mpan_sdk\u001b[0m\u001b[1;33m.\u001b[0m\u001b[0mwidgets\u001b[0m\u001b[1;33m.\u001b[0m\u001b[0mhtc_visualizer\u001b[0m \u001b[1;32mimport\u001b[0m \u001b[0mPointHtcViz\u001b[0m\u001b[1;33m\u001b[0m\u001b[1;33m\u001b[0m\u001b[0m\n\u001b[0;32m      8\u001b[0m \u001b[1;31m# import prototype.panpy.pan_sdk.extern.widgets.phase_condition as phase_condition\u001b[0m\u001b[1;33m\u001b[0m\u001b[1;33m\u001b[0m\u001b[1;33m\u001b[0m\u001b[0m\n",
      "\u001b[1;31mImportError\u001b[0m: attempted relative import with no known parent package"
     ]
    }
   ],
   "source": [
    "%matplotlib notebook\n",
    "import ipywidgets as widgets\n",
    "from ipywidgets import fixed, interactive, interact, interact_manual, HBox, VBox\n",
    "import pandas as pd\n",
    "\n",
    "from .panpy.pan_sdk.stat.clean_merged_csv_form_htc_point import HtcPointInterpreter\n",
    "from .panpy.pan_sdk.widgets.htc_visualizer import PointHtcViz\n",
    "# import prototype.panpy.pan_sdk.extern.widgets.phase_condition as phase_condition"
   ]
  },
  {
   "cell_type": "code",
   "execution_count": null,
   "metadata": {},
   "outputs": [],
   "source": [
    "# -- get table (Dataframe) and units (list) from merged csv file\n",
    "merged_file = 'merged.csv'\n",
    "m_htc_point_interpreter = HtcPointInterpreter(merged_file)\n",
    "table = pd.DataFrame()\n",
    "units = []\n",
    "try:\n",
    "    table, units = m_htc_point_interpreter.get_table_and_units()\n",
    "    x_columns = table.filter(regex=r\"x\\(*\").columns\n",
    "    vf_columns = table.filter(regex=r\"f\\(@*\").columns\n",
    "    print('table', merged_file, 'is loaded')\n",
    "except FileNotFoundError as e: \n",
    "    print(e)"
   ]
  },
  {
   "cell_type": "code",
   "execution_count": null,
   "metadata": {
    "scrolled": false
   },
   "outputs": [],
   "source": [
    "# -- phase selector (a multi check box)\n",
    "if (not table.empty) and units:\n",
    "    m_htc_viz = PointHtcViz(['T'] + list(x_columns), vf_columns, table=table, units=units)\n",
    "    m_htc_viz.run()\n",
    "else:\n",
    "    print('table is not loaded.')"
   ]
  },
  {
   "cell_type": "code",
   "execution_count": null,
   "metadata": {},
   "outputs": [],
   "source": []
  }
 ],
 "metadata": {
  "kernelspec": {
   "display_name": "Python 3",
   "language": "python",
   "name": "python3"
  },
  "language_info": {
   "codemirror_mode": {
    "name": "ipython",
    "version": 3
   },
   "file_extension": ".py",
   "mimetype": "text/x-python",
   "name": "python",
   "nbconvert_exporter": "python",
   "pygments_lexer": "ipython3",
   "version": "3.8.3"
  }
 },
 "nbformat": 4,
 "nbformat_minor": 4
}
