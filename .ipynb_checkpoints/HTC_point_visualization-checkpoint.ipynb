{
 "cells": [
  {
   "cell_type": "code",
   "execution_count": null,
   "metadata": {},
   "outputs": [],
   "source": [
    "%matplotlib notebook\n",
    "import ipywidgets as widgets\n",
    "from ipywidgets import fixed, interactive, interact, interact_manual, HBox, VBox\n",
    "import pandas as pd\n",
    "\n",
    "from .panpy.pan_sdk.stat.clean_merged_csv_form_htc_point import HtcPointInterpreter\n",
    "from .panpy.pan_sdk.widgets.htc_visualizer import PointHtcViz\n",
    "# import prototype.panpy.pan_sdk.extern.widgets.phase_condition as phase_condition"
   ]
  },
  {
   "cell_type": "code",
   "execution_count": null,
   "metadata": {},
   "outputs": [],
   "source": [
    "# -- get table (Dataframe) and units (list) from merged csv file\n",
    "merged_file = 'merged.csv'\n",
    "m_htc_point_interpreter = HtcPointInterpreter(merged_file)\n",
    "table = pd.DataFrame()\n",
    "units = []\n",
    "try:\n",
    "    table, units = m_htc_point_interpreter.get_table_and_units()\n",
    "    x_columns = table.filter(regex=r\"x\\(*\").columns\n",
    "    vf_columns = table.filter(regex=r\"f\\(@*\").columns\n",
    "    print('table', merged_file, 'is loaded')\n",
    "except FileNotFoundError as e: \n",
    "    print(e)"
   ]
  },
  {
   "cell_type": "code",
   "execution_count": null,
   "metadata": {
    "scrolled": false
   },
   "outputs": [],
   "source": [
    "# -- phase selector (a multi check box)\n",
    "if (not table.empty) and units:\n",
    "    m_htc_viz = PointHtcViz(['T'] + list(x_columns), vf_columns, table=table, units=units)\n",
    "    m_htc_viz.run()\n",
    "else:\n",
    "    print('table is not loaded.')"
   ]
  },
  {
   "cell_type": "code",
   "execution_count": null,
   "metadata": {},
   "outputs": [],
   "source": []
  }
 ],
 "metadata": {
  "kernelspec": {
   "display_name": "Python 3",
   "language": "python",
   "name": "python3"
  },
  "language_info": {
   "codemirror_mode": {
    "name": "ipython",
    "version": 3
   },
   "file_extension": ".py",
   "mimetype": "text/x-python",
   "name": "python",
   "nbconvert_exporter": "python",
   "pygments_lexer": "ipython3",
   "version": "3.8.3"
  }
 },
 "nbformat": 4,
 "nbformat_minor": 4
}
